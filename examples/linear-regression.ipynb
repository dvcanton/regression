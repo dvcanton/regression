{
 "cells": [
  {
   "cell_type": "code",
   "execution_count": 15,
   "metadata": {
    "collapsed": false
   },
   "outputs": [
   ],
   "source": [
    "import numpy as np\n",
    "import pandas as pd\n",
    "import random\n",
    "import matplotlib.pyplot as plt\n",
    "from sklearn.linear_model import LinearRegression"
   ]
  },
  {
   "cell_type": "code",
   "execution_count": 16,
   "metadata": {
    "collapsed": false
   },
   "outputs": [
   ],
   "source": [
    "x = np.array([i*np.pi/180 for i in range(0, 360, 6)])\n",
    "y = 2*np.sin(x) + np.random.normal(0, 0.3, len(x))"
   ]
  },
  {
   "cell_type": "code",
   "execution_count": 34,
   "metadata": {
    "collapsed": false
   },
   "outputs": [
   ],
   "source": [
    "data = pd.DataFrame(np.column_stack([x,y]), columns=['x', 'y'])"
   ]
  },
  {
   "cell_type": "code",
   "execution_count": 35,
   "metadata": {
    "collapsed": false
   },
   "outputs": [
    {
     "data": {
      "text/html": [
       "<div>\n",
       "<style scoped>\n",
       "    .dataframe tbody tr th:only-of-type {\n",
       "        vertical-align: middle;\n",
       "    }\n",
       "\n",
       "    .dataframe tbody tr th {\n",
       "        vertical-align: top;\n",
       "    }\n",
       "\n",
       "    .dataframe thead th {\n",
       "        text-align: right;\n",
       "    }\n",
       "</style>\n",
       "<table border=\"1\" class=\"dataframe\">\n",
       "  <thead>\n",
       "    <tr style=\"text-align: right;\">\n",
       "      <th></th>\n",
       "      <th>x</th>\n",
       "      <th>y</th>\n",
       "    </tr>\n",
       "  </thead>\n",
       "  <tbody>\n",
       "    <tr>\n",
       "      <th>0</th>\n",
       "      <td>0.000000</td>\n",
       "      <td>0.074444</td>\n",
       "    </tr>\n",
       "    <tr>\n",
       "      <th>1</th>\n",
       "      <td>0.104720</td>\n",
       "      <td>0.449441</td>\n",
       "    </tr>\n",
       "    <tr>\n",
       "      <th>2</th>\n",
       "      <td>0.209440</td>\n",
       "      <td>0.286061</td>\n",
       "    </tr>\n",
       "    <tr>\n",
       "      <th>3</th>\n",
       "      <td>0.314159</td>\n",
       "      <td>0.885536</td>\n",
       "    </tr>\n",
       "    <tr>\n",
       "      <th>4</th>\n",
       "      <td>0.418879</td>\n",
       "      <td>1.116170</td>\n",
       "    </tr>\n",
       "  </tbody>\n",
       "</table>\n",
       "</div>"
      ]
     },
     "execution_count": 35,
     "metadata": {
     },
     "output_type": "execute_result"
    }
   ],
   "source": [
    "data.head()"
   ]
  },
  {
   "cell_type": "code",
   "execution_count": 36,
   "metadata": {
    "collapsed": false
   },
   "outputs": [
    {
     "data": {
      "image/png": "[encoded data removed]"
     },
     "execution_count": 36,
     "metadata": {
     },
     "output_type": "execute_result"
    }
   ],
   "source": [
    "plt.plot(data['x'], data['y'], '.')\n",
    "\n",
    "plt.plot(x, y, '.')\n",
    "\n",
    "plt.xlabel(\"x value in rads\")\n",
    "plt.show()"
   ]
  },
  {
   "cell_type": "code",
   "execution_count": 40,
   "metadata": {
    "collapsed": false
   },
   "outputs": [
   ],
   "source": [
    "def linear_regression(data, power):\n",
    "    #initialize predictors:\n",
    "    predictors=['x']\n",
    "    if power>=2:\n",
    "        predictors.extend(['x_%d'%i for i in range(2,power+1)])\n",
    "        for i in range(2,power+1):  #power of 1 is already there\n",
    "            colname = 'x_%d'%i      #new var will be x_power\n",
    "            data[colname] = data['x']**i\n",
    "    \n",
    "    if power==2:\n",
    "        print data.head()\n",
    "\n",
    "    #Fit the model\n",
    "    linreg = LinearRegression(normalize=True)\n",
    "    linreg.fit(data[predictors],data['y'])\n",
    "    y_pred = linreg.predict(data[predictors])\n",
    "    \n",
    "    return y_pred"
   ]
  },
  {
   "cell_type": "code",
   "execution_count": 41,
   "metadata": {
    "collapsed": false
   },
   "outputs": [
    {
     "name": "stdout",
     "output_type": "stream",
     "text": [
      "          x         y       x_2       x_3       x_4       x_5       x_6  \\\n",
      "0  0.000000  0.074444  0.000000  0.000000  0.000000  0.000000  0.000000   \n",
      "1  0.104720  0.449441  0.010966  0.001148  0.000120  0.000013  0.000001   \n",
      "2  0.209440  0.286061  0.043865  0.009187  0.001924  0.000403  0.000084   \n",
      "3  0.314159  0.885536  0.098696  0.031006  0.009741  0.003060  0.000961   \n",
      "4  0.418879  1.116170  0.175460  0.073496  0.030786  0.012896  0.005402   \n",
      "\n",
      "            x_7           x_8           x_9          x_10          x_11  \\\n",
      "0  0.000000e+00  0.000000e+00  0.000000e+00  0.000000e+00  0.000000e+00   \n",
      "1  1.381021e-07  1.446202e-08  1.514459e-09  1.585938e-10  1.660790e-11   \n",
      "2  1.767707e-05  3.702277e-06  7.754031e-07  1.624000e-07  3.401299e-08   \n",
      "3  3.020293e-04  9.488531e-05  2.980910e-05  9.364805e-06  2.942040e-06   \n",
      "4  2.262665e-03  9.477829e-04  3.970064e-04  1.662976e-04  6.965859e-05   \n",
      "\n",
      "           x_12          x_13          x_14          x_15  \n",
      "0  0.000000e+00  0.000000e+00  0.000000e+00  0.000000e+00  \n",
      "1  1.739176e-12  1.821260e-13  1.907219e-14  1.997235e-15  \n",
      "2  7.123663e-09  1.491976e-09  3.124788e-10  6.544541e-11  \n",
      "3  9.242692e-07  2.903677e-07  9.122171e-08  2.865815e-08  \n",
      "4  2.917852e-05  1.222227e-05  5.119653e-06  2.144515e-06  \n"
     ]
    },
    {
     "data": {
      "text/plain": [
       "array([ 1.79473841,  1.73936439,  1.68364331,  1.62757516,  1.57115996,\n",
       "        1.51439769,  1.45728836,  1.39983197,  1.34202852,  1.283878  ,\n",
       "        1.22538042,  1.16653579,  1.10734409,  1.04780532,  0.9879195 ,\n",
       "        0.92768661,  0.86710666,  0.80617965,  0.74490558,  0.68328445,\n",
       "        0.62131625,  0.55900099,  0.49633868,  0.43332929,  0.36997285,\n",
       "        0.30626935,  0.24221878,  0.17782115,  0.11307646,  0.04798471,\n",
       "       -0.01745411, -0.08323999, -0.14937292, -0.21585292, -0.28267999,\n",
       "       -0.34985411, -0.4173753 , -0.48524354, -0.55345885, -0.62202123,\n",
       "       -0.69093066, -0.76018715, -0.82979071, -0.89974133, -0.97003901,\n",
       "       -1.04068375, -1.11167556, -1.18301443, -1.25470035, -1.32673334,\n",
       "       -1.3991134 , -1.47184051, -1.54491469, -1.61833593, -1.69210423,\n",
       "       -1.76621959, -1.84068201, -1.9154915 , -1.99064804, -2.06615165])"
      ]
     },
     "execution_count": 41,
     "metadata": {
     },
     "output_type": "execute_result"
    }
   ],
   "source": [
    "linear_regression(data, 2)"
   ]
  },
  {
   "cell_type": "code",
   "execution_count": 42,
   "metadata": {
    "collapsed": false
   },
   "outputs": [
    {
     "name": "stdout",
     "output_type": "stream",
     "text": [
      "          x         y       x_2       x_3       x_4       x_5       x_6  \\\n",
      "0  0.000000  0.074444  0.000000  0.000000  0.000000  0.000000  0.000000   \n",
      "1  0.104720  0.449441  0.010966  0.001148  0.000120  0.000013  0.000001   \n",
      "2  0.209440  0.286061  0.043865  0.009187  0.001924  0.000403  0.000084   \n",
      "3  0.314159  0.885536  0.098696  0.031006  0.009741  0.003060  0.000961   \n",
      "4  0.418879  1.116170  0.175460  0.073496  0.030786  0.012896  0.005402   \n",
      "\n",
      "            x_7           x_8           x_9          x_10          x_11  \\\n",
      "0  0.000000e+00  0.000000e+00  0.000000e+00  0.000000e+00  0.000000e+00   \n",
      "1  1.381021e-07  1.446202e-08  1.514459e-09  1.585938e-10  1.660790e-11   \n",
      "2  1.767707e-05  3.702277e-06  7.754031e-07  1.624000e-07  3.401299e-08   \n",
      "3  3.020293e-04  9.488531e-05  2.980910e-05  9.364805e-06  2.942040e-06   \n",
      "4  2.262665e-03  9.477829e-04  3.970064e-04  1.662976e-04  6.965859e-05   \n",
      "\n",
      "           x_12          x_13          x_14          x_15  \n",
      "0  0.000000e+00  0.000000e+00  0.000000e+00  0.000000e+00  \n",
      "1  1.739176e-12  1.821260e-13  1.907219e-14  1.997235e-15  \n",
      "2  7.123663e-09  1.491976e-09  3.124788e-10  6.544541e-11  \n",
      "3  9.242692e-07  2.903677e-07  9.122171e-08  2.865815e-08  \n",
      "4  2.917852e-05  1.222227e-05  5.119653e-06  2.144515e-06  \n"
     ]
    },
    {
     "data": {
      "image/png": "[encoded data removed]"
     },
     "execution_count": 42,
     "metadata": {
     },
     "output_type": "execute_result"
    }
   ],
   "source": [
    "models_to_plot = {1:231,3:232,6:233,9:234,12:235,15:236}\n",
    "for power in range(1,16):\n",
    "    y_pred = linear_regression(data, power=power)\n",
    "    \n",
    "    if power in models_to_plot:\n",
    "        plt.subplot(models_to_plot[power])\n",
    "        plt.tight_layout()\n",
    "        plt.plot(data['x'],y_pred)\n",
    "        plt.plot(data['x'],data['y'],'.')\n",
    "        plt.title('Plot for power: %d'%power)"
   ]
  }
 ],
 "metadata": {
  "kernelspec": {
   "display_name": "SageMath (stable)",
   "name": "sagemath"
  },
  "language_info": {
   "codemirror_mode": {
    "name": "ipython",
    "version": 2
   },
   "file_extension": ".py",
   "mimetype": "text/x-python",
   "name": "python",
   "nbconvert_exporter": "python",
   "pygments_lexer": "ipython2",
   "version": "2.7.15"
  }
 },
 "nbformat": 4,
 "nbformat_minor": 0
}